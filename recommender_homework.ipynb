{
 "cells": [
  {
   "cell_type": "code",
   "execution_count": 20,
   "metadata": {
    "collapsed": false
   },
   "outputs": [],
   "source": [
    "import pandas as pd\n",
    "import numpy as np"
   ]
  },
  {
   "cell_type": "code",
   "execution_count": 21,
   "metadata": {
    "collapsed": false
   },
   "outputs": [],
   "source": [
    "M = pd.read_csv(\"D:\\UIS-LEARN\\Spring 2016/Movie Reviews - Sheet1.csv\", index_col='Name')"
   ]
  },
  {
   "cell_type": "code",
   "execution_count": 22,
   "metadata": {
    "collapsed": false
   },
   "outputs": [
    {
     "data": {
      "text/html": [
       "<div>\n",
       "<table border=\"1\" class=\"dataframe\">\n",
       "  <thead>\n",
       "    <tr style=\"text-align: right;\">\n",
       "      <th></th>\n",
       "      <th>American Sniper</th>\n",
       "      <th>The Hunger Games: Mockingjay - Part 1</th>\n",
       "      <th>Guardians of the Galaxy</th>\n",
       "      <th>The Lego Movie</th>\n",
       "      <th>The Hobbit</th>\n",
       "      <th>Transformers</th>\n",
       "      <th>Malificent</th>\n",
       "      <th>Big Hero 6</th>\n",
       "      <th>Godzilla</th>\n",
       "      <th>Interstellar</th>\n",
       "      <th>How to Train your Dragon 2</th>\n",
       "      <th>Gone Girl</th>\n",
       "      <th>Divergent</th>\n",
       "      <th>The Fault in Our Stars</th>\n",
       "      <th>Unbroken</th>\n",
       "      <th>300: Rise of an Empire</th>\n",
       "    </tr>\n",
       "    <tr>\n",
       "      <th>Name</th>\n",
       "      <th></th>\n",
       "      <th></th>\n",
       "      <th></th>\n",
       "      <th></th>\n",
       "      <th></th>\n",
       "      <th></th>\n",
       "      <th></th>\n",
       "      <th></th>\n",
       "      <th></th>\n",
       "      <th></th>\n",
       "      <th></th>\n",
       "      <th></th>\n",
       "      <th></th>\n",
       "      <th></th>\n",
       "      <th></th>\n",
       "      <th></th>\n",
       "    </tr>\n",
       "  </thead>\n",
       "  <tbody>\n",
       "    <tr>\n",
       "      <th>Mike</th>\n",
       "      <td>NaN</td>\n",
       "      <td>NaN</td>\n",
       "      <td>5</td>\n",
       "      <td>NaN</td>\n",
       "      <td>4</td>\n",
       "      <td>NaN</td>\n",
       "      <td>3</td>\n",
       "      <td>NaN</td>\n",
       "      <td>NaN</td>\n",
       "      <td>NaN</td>\n",
       "      <td>NaN</td>\n",
       "      <td>NaN</td>\n",
       "      <td>3</td>\n",
       "      <td>NaN</td>\n",
       "      <td>NaN</td>\n",
       "      <td>2</td>\n",
       "    </tr>\n",
       "    <tr>\n",
       "      <th>HJ SONG</th>\n",
       "      <td>NaN</td>\n",
       "      <td>2</td>\n",
       "      <td>3</td>\n",
       "      <td>4</td>\n",
       "      <td>4</td>\n",
       "      <td>5</td>\n",
       "      <td>NaN</td>\n",
       "      <td>4</td>\n",
       "      <td>4</td>\n",
       "      <td>5</td>\n",
       "      <td>5</td>\n",
       "      <td>NaN</td>\n",
       "      <td>NaN</td>\n",
       "      <td>NaN</td>\n",
       "      <td>5</td>\n",
       "      <td>5</td>\n",
       "    </tr>\n",
       "    <tr>\n",
       "      <th>Ryan Hansen</th>\n",
       "      <td>NaN</td>\n",
       "      <td>3</td>\n",
       "      <td>4</td>\n",
       "      <td>3</td>\n",
       "      <td>5</td>\n",
       "      <td>2</td>\n",
       "      <td>3</td>\n",
       "      <td>3</td>\n",
       "      <td>3</td>\n",
       "      <td>NaN</td>\n",
       "      <td>5</td>\n",
       "      <td>NaN</td>\n",
       "      <td>3</td>\n",
       "      <td>NaN</td>\n",
       "      <td>NaN</td>\n",
       "      <td>NaN</td>\n",
       "    </tr>\n",
       "    <tr>\n",
       "      <th>Olumuyiwa Durojaiye</th>\n",
       "      <td>NaN</td>\n",
       "      <td>NaN</td>\n",
       "      <td>NaN</td>\n",
       "      <td>NaN</td>\n",
       "      <td>NaN</td>\n",
       "      <td>5</td>\n",
       "      <td>NaN</td>\n",
       "      <td>5</td>\n",
       "      <td>2</td>\n",
       "      <td>NaN</td>\n",
       "      <td>3</td>\n",
       "      <td>NaN</td>\n",
       "      <td>NaN</td>\n",
       "      <td>NaN</td>\n",
       "      <td>NaN</td>\n",
       "      <td>2</td>\n",
       "    </tr>\n",
       "    <tr>\n",
       "      <th>Charlie</th>\n",
       "      <td>NaN</td>\n",
       "      <td>2</td>\n",
       "      <td>3</td>\n",
       "      <td>NaN</td>\n",
       "      <td>3</td>\n",
       "      <td>2</td>\n",
       "      <td>3</td>\n",
       "      <td>NaN</td>\n",
       "      <td>4</td>\n",
       "      <td>5</td>\n",
       "      <td>2</td>\n",
       "      <td>NaN</td>\n",
       "      <td>2</td>\n",
       "      <td>3</td>\n",
       "      <td>NaN</td>\n",
       "      <td>2</td>\n",
       "    </tr>\n",
       "  </tbody>\n",
       "</table>\n",
       "</div>"
      ],
      "text/plain": [
       "                     American Sniper  The Hunger Games: Mockingjay - Part 1  \\\n",
       "Name                                                                          \n",
       "Mike                             NaN                                    NaN   \n",
       "HJ SONG                          NaN                                      2   \n",
       "Ryan Hansen                      NaN                                      3   \n",
       "Olumuyiwa Durojaiye              NaN                                    NaN   \n",
       "Charlie                          NaN                                      2   \n",
       "\n",
       "                     Guardians of the Galaxy  The Lego Movie  The Hobbit  \\\n",
       "Name                                                                       \n",
       "Mike                                       5             NaN           4   \n",
       "HJ SONG                                    3               4           4   \n",
       "Ryan Hansen                                4               3           5   \n",
       "Olumuyiwa Durojaiye                      NaN             NaN         NaN   \n",
       "Charlie                                    3             NaN           3   \n",
       "\n",
       "                     Transformers  Malificent  Big Hero 6  Godzilla  \\\n",
       "Name                                                                  \n",
       "Mike                          NaN           3         NaN       NaN   \n",
       "HJ SONG                         5         NaN           4         4   \n",
       "Ryan Hansen                     2           3           3         3   \n",
       "Olumuyiwa Durojaiye             5         NaN           5         2   \n",
       "Charlie                         2           3         NaN         4   \n",
       "\n",
       "                     Interstellar  How to Train your Dragon 2  Gone Girl  \\\n",
       "Name                                                                       \n",
       "Mike                          NaN                         NaN        NaN   \n",
       "HJ SONG                         5                           5        NaN   \n",
       "Ryan Hansen                   NaN                           5        NaN   \n",
       "Olumuyiwa Durojaiye           NaN                           3        NaN   \n",
       "Charlie                         5                           2        NaN   \n",
       "\n",
       "                     Divergent  The Fault in Our Stars  Unbroken  \\\n",
       "Name                                                               \n",
       "Mike                         3                     NaN       NaN   \n",
       "HJ SONG                    NaN                     NaN         5   \n",
       "Ryan Hansen                  3                     NaN       NaN   \n",
       "Olumuyiwa Durojaiye        NaN                     NaN       NaN   \n",
       "Charlie                      2                       3       NaN   \n",
       "\n",
       "                     300: Rise of an Empire  \n",
       "Name                                         \n",
       "Mike                                      2  \n",
       "HJ SONG                                   5  \n",
       "Ryan Hansen                             NaN  \n",
       "Olumuyiwa Durojaiye                       2  \n",
       "Charlie                                   2  "
      ]
     },
     "execution_count": 22,
     "metadata": {},
     "output_type": "execute_result"
    }
   ],
   "source": [
    "M.head()"
   ]
  },
  {
   "cell_type": "code",
   "execution_count": 23,
   "metadata": {
    "collapsed": false
   },
   "outputs": [],
   "source": [
    "def pearson(s1, s2):\n",
    "    \"\"\"Take two pd.Series objects and return a pearson correlation.\"\"\"\n",
    "    s1_c = s1 - s1.mean()\n",
    "    s2_c = s2 - s2.mean()\n",
    "    return np.sum(s1_c * s2_c) / np.sqrt(np.sum(s1_c ** 2) * np.sum(s2_c ** 2))"
   ]
  },
  {
   "cell_type": "code",
   "execution_count": 24,
   "metadata": {
    "collapsed": false
   },
   "outputs": [],
   "source": [
    "def get_recs(movie_name, M, num):\n",
    "\n",
    "    import numpy as np\n",
    "    reviews = []\n",
    "    for title in M.columns:\n",
    "        if title == movie_name:\n",
    "            continue\n",
    "        cor = pearson(M[movie_name], M[title])\n",
    "        if np.isnan(cor):\n",
    "            continue\n",
    "        else:\n",
    "            reviews.append((title, cor))\n",
    "    \n",
    "    reviews.sort(key=lambda tup: tup[1], reverse=True)\n",
    "    return reviews[:num]\n",
    "\n",
    "    "
   ]
  },
  {
   "cell_type": "markdown",
   "metadata": {},
   "source": [
    "###Question 1:  What movie is most Similar to 'The fault in our stars' (60 pts)\n"
   ]
  },
  {
   "cell_type": "code",
   "execution_count": 25,
   "metadata": {
    "collapsed": false
   },
   "outputs": [],
   "source": [
    "recs = get_recs('The Fault in Our Stars', M, 10)"
   ]
  },
  {
   "cell_type": "code",
   "execution_count": 26,
   "metadata": {
    "collapsed": false
   },
   "outputs": [
    {
     "data": {
      "text/plain": [
       "[('Malificent', 0.4290694760646056),\n",
       " ('Godzilla', 0.32655088533483884),\n",
       " ('How to Train your Dragon 2', 0.21246439225199001),\n",
       " ('Interstellar', 0.14553965767795929),\n",
       " ('Gone Girl', 0.10292874720773869),\n",
       " ('Divergent', 0.077957424633920691),\n",
       " ('Unbroken', 0.074198141493007602),\n",
       " ('Guardians of the Galaxy', 0.066871874009248947),\n",
       " ('Transformers', 0.064887439494061949),\n",
       " ('The Hunger Games: Mockingjay - Part 1', 0.063868558494407451)]"
      ]
     },
     "execution_count": 26,
     "metadata": {},
     "output_type": "execute_result"
    }
   ],
   "source": [
    "recs[:10]"
   ]
  },
  {
   "cell_type": "code",
   "execution_count": 27,
   "metadata": {
    "collapsed": false
   },
   "outputs": [
    {
     "data": {
      "text/plain": [
       "[('Malificent', 0.4290694760646056)]"
      ]
     },
     "execution_count": 27,
     "metadata": {},
     "output_type": "execute_result"
    }
   ],
   "source": [
    "recs[:1]"
   ]
  },
  {
   "cell_type": "markdown",
   "metadata": {},
   "source": [
    "So Malificent is the movie most similar"
   ]
  },
  {
   "cell_type": "markdown",
   "metadata": {},
   "source": [
    "###Question 2:  Which movie(s) would you most like to see, based on your classmates experience? (40 pts)"
   ]
  },
  {
   "cell_type": "code",
   "execution_count": 28,
   "metadata": {
    "collapsed": false
   },
   "outputs": [
    {
     "name": "stderr",
     "output_type": "stream",
     "text": [
      "C:\\Users\\anusha\\Anaconda2\\lib\\site-packages\\ipykernel\\__main__.py:4: FutureWarning: sort is deprecated, use sort_values(inplace=True) for for INPLACE sorting\n"
     ]
    }
   ],
   "source": [
    "#the movies I've seen\n",
    "my_ratings = M.ix['Anusha Putta'].dropna()\n",
    "#the movie I've rated the highest\n",
    "my_ratings.sort(ascending=False)\n",
    "#the name of the movie I've rated the highest\n",
    "fav_movie = my_ratings.index[0]"
   ]
  },
  {
   "cell_type": "code",
   "execution_count": 29,
   "metadata": {
    "collapsed": false
   },
   "outputs": [
    {
     "data": {
      "text/plain": [
       "'Gone Girl'"
      ]
     },
     "execution_count": 29,
     "metadata": {},
     "output_type": "execute_result"
    }
   ],
   "source": [
    "fav_movie"
   ]
  },
  {
   "cell_type": "code",
   "execution_count": 30,
   "metadata": {
    "collapsed": true
   },
   "outputs": [],
   "source": [
    "recs = get_recs(fav_movie, M, 10)"
   ]
  },
  {
   "cell_type": "code",
   "execution_count": 31,
   "metadata": {
    "collapsed": false
   },
   "outputs": [
    {
     "data": {
      "text/plain": [
       "[('American Sniper', 0.41710744241409831),\n",
       " ('Godzilla', 0.1906755639204753),\n",
       " ('300: Rise of an Empire', 0.14541937100937113),\n",
       " ('Interstellar', 0.1031977194395927),\n",
       " ('The Fault in Our Stars', 0.10292874720773869),\n",
       " ('How to Train your Dragon 2', 0.083466516858630782),\n",
       " ('The Lego Movie', 0.060120924474559898),\n",
       " ('Transformers', 0.055274691783363444),\n",
       " ('Divergent', 0.016501094928174791),\n",
       " ('Unbroken', -0.059225946552333236)]"
      ]
     },
     "execution_count": 31,
     "metadata": {},
     "output_type": "execute_result"
    }
   ],
   "source": [
    "recs"
   ]
  },
  {
   "cell_type": "markdown",
   "metadata": {},
   "source": [
    "So based on my classmates experience the most suitable movie which i like to view is American Sniper "
   ]
  },
  {
   "cell_type": "code",
   "execution_count": null,
   "metadata": {
    "collapsed": true
   },
   "outputs": [],
   "source": []
  },
  {
   "cell_type": "markdown",
   "metadata": {},
   "source": [
    "###Question 3: Bonus Question...  For all the movies you haven't seen, can you predict how you'd rate them using your the class reviews? (10 pts)"
   ]
  },
  {
   "cell_type": "code",
   "execution_count": 36,
   "metadata": {
    "collapsed": false
   },
   "outputs": [
    {
     "name": "stderr",
     "output_type": "stream",
     "text": [
      "C:\\Users\\anusha\\Anaconda2\\lib\\site-packages\\ipykernel\\__main__.py:2: FutureWarning: sort is deprecated, use sort_values(inplace=True) for for INPLACE sorting\n",
      "  from ipykernel import kernelapp as app\n"
     ]
    }
   ],
   "source": [
    "notseen = M.ix['Anusha Putta']\n",
    "notseen.sort()\n",
    "for i in range(0, notseen.count(), 1):\n",
    "    notseen.drop(notseen.index[0], inplace=True)"
   ]
  },
  {
   "cell_type": "code",
   "execution_count": 37,
   "metadata": {
    "collapsed": false
   },
   "outputs": [
    {
     "data": {
      "text/plain": [
       "American Sniper                         NaN\n",
       "The Hunger Games: Mockingjay - Part 1   NaN\n",
       "Guardians of the Galaxy                 NaN\n",
       "The Lego Movie                          NaN\n",
       "Malificent                              NaN\n",
       "Big Hero 6                              NaN\n",
       "Interstellar                            NaN\n",
       "How to Train your Dragon 2              NaN\n",
       "The Fault in Our Stars                  NaN\n",
       "Unbroken                                NaN\n",
       "300: Rise of an Empire                  NaN\n",
       "Name: Anusha Putta, dtype: float64"
      ]
     },
     "execution_count": 37,
     "metadata": {},
     "output_type": "execute_result"
    }
   ],
   "source": [
    "notseen"
   ]
  },
  {
   "cell_type": "code",
   "execution_count": 43,
   "metadata": {
    "collapsed": false
   },
   "outputs": [
    {
     "name": "stdout",
     "output_type": "stream",
     "text": [
      "Pearson Correlation coefficient of :\n",
      "(Anusha Putta , Mike) : 0.0\n",
      "(Anusha Putta , HJ SONG) : 0.0414157683281\n",
      "(Anusha Putta , Ryan Hansen) : 0.0975900072949\n",
      "(Anusha Putta , Olumuyiwa Durojaiye) : 0.326376682884\n",
      "(Anusha Putta , Charlie) : -0.269202494133\n",
      "(Anusha Putta , Sina Tuy) : 0.22712838129\n",
      "(Anusha Putta , Pavithra Shetty) : 0.0\n",
      "(Anusha Putta , Sara Collins) : 0.0\n",
      "(Anusha Putta , Jonathan Doll) : 0.0\n",
      "(Anusha Putta , saikiran reddy) : -0.196698948117\n",
      "(Anusha Putta , Aishwarya reddy) : 0.327326835354\n",
      "(Anusha Putta , Brant Mullinix) : -0.284267621807\n",
      "(Anusha Putta , Sai Sampath) : 0.327326835354\n",
      "(Anusha Putta , Suyendra) : 0.0897222906832\n",
      "(Anusha Putta , Sai Yallapragada) : 0.353553390593\n",
      "(Anusha Putta , Akhilesh) : -0.366679398811\n",
      "(Anusha Putta , Sundar Prasad) : 0.288675134595\n",
      "(Anusha Putta , Evan Piercy) : -0.387298334621\n",
      "(Anusha Putta , Jessica Fong) : 0.0\n",
      "(Anusha Putta , Onsiri Tapsarn) : nan\n",
      "(Anusha Putta , Anirudh Thota) : 0.210818510678\n",
      "(Anusha Putta , Greg Werner) : 0.28749445425\n",
      "(Anusha Putta , Violeta Lee Fay) : -0.34020690872\n",
      "(Anusha Putta , Aditya Dharmasagar) : 0.408248290464\n",
      "(Anusha Putta , Manideep Maddipatla) : -0.0455960752588\n",
      "(Anusha Putta , Maheshwar Reddy) : 0.291666666667\n",
      "(Anusha Putta , siddanth sudarshan) : 0.0741249316661\n",
      "(Anusha Putta , anurag) : -0.375239387193\n",
      "(Anusha Putta , Ahmed Muheebuddin) : 0.0\n",
      "(Anusha Putta , azam) : 0.0\n",
      "(Anusha Putta , Aswini kumar) : 0.472455591262\n",
      "(Anusha Putta , M A Nissar) : -0.22360679775\n",
      "(Anusha Putta , Yinka Adeyemo) : nan\n",
      "(Anusha Putta , Thomas Podlipni) : 0.0\n",
      "(Anusha Putta , Bradley Brubaker) : -0.0589255650989\n",
      "(Anusha Putta , Harish Kallianpur) : 0.0\n",
      "(Anusha Putta , J A Barnes) : 0.0\n",
      "(Anusha Putta , Jared Knowles) : 0.0\n",
      "(Anusha Putta , veerendra battula) : 0.200804832226\n",
      "(Anusha Putta , Trudy Kline) : 0.0\n",
      "(Anusha Putta , Rajesh Kinkirla) : -0.294174202707\n",
      "(Anusha Putta , Syed Farzan) : 0.169030850946\n",
      "(Anusha Putta , Syed Abbas Hussaini) : 0.0\n",
      "(Anusha Putta , Arun Vedere) : 0.117984975931\n",
      "(Anusha Putta , Venkatesh Komma) : 0.0\n",
      "(Anusha Putta , Graham Bullard) : 0.318896402072\n",
      "(Anusha Putta , solomon choppara) : 0.0\n",
      "(Anusha Putta , Susan Huang) : -0.319801074533\n",
      "(Anusha Putta , Aarti Jaiswal) : 0.0\n",
      "(Anusha Putta , James Goodpasture) : 0.109108945118\n",
      "(Anusha Putta , Adrian Cavallaris) : 0.0\n",
      "(Anusha Putta , Bhuvana Posina) : 0.196589274873\n",
      "(Anusha Putta , David Huang) : 0.408248290464\n",
      "(Anusha Putta , Shiva rama raju Chekuri) : 0.369274472938\n",
      "(Anusha Putta , Andrew Webb) : 0.280449078075\n",
      "(Anusha Putta , ugesh reddy challa) : 0.0\n",
      "(Anusha Putta , sai bhargav musuluri) : 0.0\n",
      "(Anusha Putta , sandeep katragadda) : -0.169030850946\n",
      "(Anusha Putta , krishna sai) : -0.319801074533\n",
      "(Anusha Putta , Anirudh) : -0.39349550147\n",
      "(Anusha Putta , Heather Sanders) : 0.0\n",
      "(Anusha Putta , surya chandra reddy kovvuri) : 0.0\n",
      "(Anusha Putta , David Reyling) : -0.612372435696\n",
      "(Anusha Putta , Jake Metzger) : 0.811502671201\n",
      "(Anusha Putta , Josna Rajan) : -0.231455024943\n",
      "(Anusha Putta , Tyler Vitanova) : 0.25588315786\n",
      "(Anusha Putta , Shannon Morrison) : -0.204124145232\n",
      "(Anusha Putta , Sunil Nandikanti) : 0.0400320384513\n",
      "(Anusha Putta , Anusha Putta) : 1.0\n",
      "(Anusha Putta , Benjamin Baysinger) : 0.144525874706\n",
      "(Anusha Putta , Ashutosh Sureka) : 0.118262479198\n",
      "(Anusha Putta , nan) : nan\n",
      "(Anusha Putta , nan) : nan\n",
      "(Anusha Putta , nan) : nan\n",
      "(Anusha Putta , nan) : nan\n",
      "(Anusha Putta , nan) : nan\n",
      "(Anusha Putta , nan) : nan\n",
      "(Anusha Putta , nan) : nan\n",
      "(Anusha Putta , nan) : nan\n",
      "(Anusha Putta , Michael Cooper) : 0.0\n"
     ]
    }
   ],
   "source": [
    "\n",
    "print \"Pearson Correlation coefficient of :\"\n",
    "a= []\n",
    "for i in range(0, M.shape[0], 1): \n",
    "    cor=pearson(M.ix[68], M.ix[i])\n",
    "    print \"(\" + M.index[68] + \" , \" + str(M.index[i]) + \") :\", cor\n",
    "    a.append(cor)\n"
   ]
  },
  {
   "cell_type": "code",
   "execution_count": 45,
   "metadata": {
    "collapsed": true
   },
   "outputs": [],
   "source": [
    "def pred_rate(d, a):\n",
    "\n",
    "    j=0\n",
    "    k=0\n",
    "    for i in range(0, d.shape[0], 1):\n",
    "        if d.irow(i)>0 and a[i]>0: \n",
    "            j= j+(a[i]*d.irow(i))\n",
    "            k= k+a[i]\n",
    "        else:\n",
    "            continue\n",
    "    return j/k"
   ]
  },
  {
   "cell_type": "code",
   "execution_count": 46,
   "metadata": {
    "collapsed": false
   },
   "outputs": [
    {
     "name": "stdout",
     "output_type": "stream",
     "text": [
      "My ratings for the movies that I have not seen using class review:\n",
      "American Sniper:  4.4\n",
      "The Hunger Games: Mockingjay - Part 1:  3.1\n",
      "Guardians of the Galaxy:  3.9\n",
      "The Lego Movie:  3.3\n",
      "Malificent:  3.3\n",
      "Big Hero 6:  4.1\n",
      "Interstellar:  4.6\n",
      "How to Train your Dragon 2:  3.5\n",
      "The Fault in Our Stars:  3.5\n",
      "Unbroken:  3.2\n",
      "300: Rise of an Empire:  3.6\n"
     ]
    },
    {
     "name": "stderr",
     "output_type": "stream",
     "text": [
      "C:\\Users\\anusha\\Anaconda2\\lib\\site-packages\\ipykernel\\__main__.py:6: FutureWarning: irow(i) is deprecated. Please use .iloc[i] or .iat[i]\n",
      "C:\\Users\\anusha\\Anaconda2\\lib\\site-packages\\ipykernel\\__main__.py:7: FutureWarning: irow(i) is deprecated. Please use .iloc[i] or .iat[i]\n"
     ]
    }
   ],
   "source": [
    "print \"Ratings for the movies that I have not seen using class review:\"\n",
    "for i in range(0, notseen.shape[0], 1):  \n",
    "    d=M[notseen.index[i]]\n",
    "    rate=pred_rate(d, a)\n",
    "    print notseen.index[i] +\": \", rate.round(1)"
   ]
  },
  {
   "cell_type": "code",
   "execution_count": null,
   "metadata": {
    "collapsed": true
   },
   "outputs": [],
   "source": []
  }
 ],
 "metadata": {
  "kernelspec": {
   "display_name": "Python 2",
   "language": "python",
   "name": "python2"
  },
  "language_info": {
   "codemirror_mode": {
    "name": "ipython",
    "version": 2
   },
   "file_extension": ".py",
   "mimetype": "text/x-python",
   "name": "python",
   "nbconvert_exporter": "python",
   "pygments_lexer": "ipython2",
   "version": "2.7.11"
  }
 },
 "nbformat": 4,
 "nbformat_minor": 0
}
